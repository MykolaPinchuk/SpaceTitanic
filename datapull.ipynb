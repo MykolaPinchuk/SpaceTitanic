{
 "cells": [
  {
   "cell_type": "code",
   "execution_count": 1,
   "id": "387d8f09-8e64-4d8b-8c70-47cdda0b1af2",
   "metadata": {},
   "outputs": [
    {
     "name": "stdout",
     "output_type": "stream",
     "text": [
      "Collecting kaggle\n",
      "  Downloading kaggle-1.5.12.tar.gz (58 kB)\n",
      "\u001b[2K     \u001b[90m━━━━━━━━━━━━━━━━━━━━━━━━━━━━━━━━━━━━━━━━\u001b[0m \u001b[32m59.0/59.0 kB\u001b[0m \u001b[31m2.6 MB/s\u001b[0m eta \u001b[36m0:00:00\u001b[0m\n",
      "\u001b[?25h  Preparing metadata (setup.py) ... \u001b[?25ldone\n",
      "\u001b[?25hRequirement already satisfied: six>=1.10 in /opt/conda/lib/python3.7/site-packages (from kaggle) (1.16.0)\n",
      "Requirement already satisfied: certifi in /opt/conda/lib/python3.7/site-packages (from kaggle) (2022.9.24)\n",
      "Requirement already satisfied: python-dateutil in /opt/conda/lib/python3.7/site-packages (from kaggle) (2.8.2)\n",
      "Requirement already satisfied: requests in /opt/conda/lib/python3.7/site-packages (from kaggle) (2.28.1)\n",
      "Requirement already satisfied: tqdm in /opt/conda/lib/python3.7/site-packages (from kaggle) (4.64.1)\n",
      "Collecting python-slugify\n",
      "  Downloading python_slugify-7.0.0-py2.py3-none-any.whl (9.4 kB)\n",
      "Requirement already satisfied: urllib3 in /opt/conda/lib/python3.7/site-packages (from kaggle) (1.26.11)\n",
      "Collecting text-unidecode>=1.3\n",
      "  Downloading text_unidecode-1.3-py2.py3-none-any.whl (78 kB)\n",
      "\u001b[2K     \u001b[90m━━━━━━━━━━━━━━━━━━━━━━━━━━━━━━━━━━━━━━━━\u001b[0m \u001b[32m78.2/78.2 kB\u001b[0m \u001b[31m7.5 MB/s\u001b[0m eta \u001b[36m0:00:00\u001b[0m\n",
      "\u001b[?25hRequirement already satisfied: charset-normalizer<3,>=2 in /opt/conda/lib/python3.7/site-packages (from requests->kaggle) (2.1.1)\n",
      "Requirement already satisfied: idna<4,>=2.5 in /opt/conda/lib/python3.7/site-packages (from requests->kaggle) (3.4)\n",
      "Building wheels for collected packages: kaggle\n",
      "  Building wheel for kaggle (setup.py) ... \u001b[?25ldone\n",
      "\u001b[?25h  Created wheel for kaggle: filename=kaggle-1.5.12-py3-none-any.whl size=73051 sha256=435067740eca57ffaadfc26f42ba96cc74a116f1229a12150f6b9420c6be3b43\n",
      "  Stored in directory: /home/jupyter/.cache/pip/wheels/11/ec/8f/80c32ff2501f7b1a76f4df651a0242314d229a5d3e5130bd01\n",
      "Successfully built kaggle\n",
      "Installing collected packages: text-unidecode, python-slugify, kaggle\n",
      "Successfully installed kaggle-1.5.12 python-slugify-7.0.0 text-unidecode-1.3\n"
     ]
    }
   ],
   "source": [
    "!pip install kaggle"
   ]
  },
  {
   "cell_type": "code",
   "execution_count": 2,
   "id": "64cf8b8c-73f1-4d97-af6c-9731da7d69df",
   "metadata": {
    "tags": []
   },
   "outputs": [
    {
     "name": "stdout",
     "output_type": "stream",
     "text": [
      "/home/jupyter\n"
     ]
    }
   ],
   "source": [
    "cd"
   ]
  },
  {
   "cell_type": "code",
   "execution_count": 3,
   "id": "92a60d23-8015-4516-8cda-94b25e660dbe",
   "metadata": {},
   "outputs": [],
   "source": [
    "mkdir .kaggle"
   ]
  },
  {
   "cell_type": "code",
   "execution_count": 4,
   "id": "8073cda5-665c-42dd-943d-df01948d5df2",
   "metadata": {},
   "outputs": [
    {
     "name": "stdout",
     "output_type": "stream",
     "text": [
      "\u001b[0m\u001b[01;34m.\u001b[0m/   \u001b[01;34m.cache\u001b[0m/   \u001b[01;34m.docker\u001b[0m/   \u001b[01;34m.jupyter\u001b[0m/  \u001b[01;34m.local\u001b[0m/        \u001b[01;34msrc\u001b[0m/\n",
      "\u001b[01;34m..\u001b[0m/  \u001b[01;34m.config\u001b[0m/  \u001b[01;34m.ipython\u001b[0m/  \u001b[01;34m.kaggle\u001b[0m/   \u001b[01;34mprojects_gcp\u001b[0m/  \u001b[01;34mtutorials\u001b[0m/\n"
     ]
    }
   ],
   "source": [
    "ls -a"
   ]
  },
  {
   "cell_type": "code",
   "execution_count": 5,
   "id": "858deddf-d206-4eac-b00c-1641a5092e80",
   "metadata": {},
   "outputs": [
    {
     "name": "stdout",
     "output_type": "stream",
     "text": [
      "Copying gs://pmykola-projects-data/kaggle.json to file://.kaggle/kaggle.json\n",
      "  Completed files 1/1 | 63.0B/63.0B                                            \n"
     ]
    }
   ],
   "source": [
    "!gcloud storage cp gs://pmykola-projects-data/kaggle.json .kaggle"
   ]
  },
  {
   "cell_type": "code",
   "execution_count": 6,
   "id": "68717fda-9c3a-4bd7-a4fa-25d6e5de84d6",
   "metadata": {},
   "outputs": [],
   "source": [
    "mkdir projects_data"
   ]
  },
  {
   "cell_type": "code",
   "execution_count": 7,
   "id": "9e913422-0265-48e7-82f0-7d642b0aee1c",
   "metadata": {},
   "outputs": [
    {
     "name": "stdout",
     "output_type": "stream",
     "text": [
      "/home/jupyter/projects_data\n"
     ]
    }
   ],
   "source": [
    "cd projects_data"
   ]
  },
  {
   "cell_type": "code",
   "execution_count": 8,
   "id": "3d0c4c68-0a9b-4033-a074-b66d9688647f",
   "metadata": {},
   "outputs": [],
   "source": [
    "mkdir space_titanic"
   ]
  },
  {
   "cell_type": "code",
   "execution_count": 9,
   "id": "08bc5aa2-f0db-4d87-ba81-e506950202ef",
   "metadata": {},
   "outputs": [
    {
     "name": "stdout",
     "output_type": "stream",
     "text": [
      "Warning: Your Kaggle API key is readable by other users on this system! To fix this, you can run 'chmod 600 /home/jupyter/.kaggle/kaggle.json'\n",
      "Downloading spaceship-titanic.zip to /home/jupyter/projects_data\n",
      "100%|█████████████████████████████████████████| 299k/299k [00:00<00:00, 408kB/s]\n",
      "100%|█████████████████████████████████████████| 299k/299k [00:00<00:00, 407kB/s]\n"
     ]
    }
   ],
   "source": [
    "!kaggle competitions download -c spaceship-titanic"
   ]
  },
  {
   "cell_type": "code",
   "execution_count": 10,
   "id": "98332008-bb1f-426d-9a80-7315030b3191",
   "metadata": {},
   "outputs": [
    {
     "name": "stdout",
     "output_type": "stream",
     "text": [
      "Archive:  spaceship-titanic.zip\n",
      "  inflating: sample_submission.csv   \n",
      "  inflating: test.csv                \n",
      "  inflating: train.csv               \n"
     ]
    }
   ],
   "source": [
    "!unzip spaceship-titanic.zip"
   ]
  },
  {
   "cell_type": "code",
   "execution_count": 11,
   "id": "56fece97-f53c-4308-ba91-1553111ddcd7",
   "metadata": {},
   "outputs": [],
   "source": [
    "cp train.csv test.csv sample_submission.csv /home/jupyter/projects_data/space_titanic"
   ]
  },
  {
   "cell_type": "code",
   "execution_count": null,
   "id": "9d10971a-b555-4ea8-889a-163dee7aef2a",
   "metadata": {},
   "outputs": [],
   "source": []
  }
 ],
 "metadata": {
  "environment": {
   "kernel": "python3",
   "name": "common-cu110.m100",
   "type": "gcloud",
   "uri": "gcr.io/deeplearning-platform-release/base-cu110:m100"
  },
  "kernelspec": {
   "display_name": "Python 3",
   "language": "python",
   "name": "python3"
  },
  "language_info": {
   "codemirror_mode": {
    "name": "ipython",
    "version": 3
   },
   "file_extension": ".py",
   "mimetype": "text/x-python",
   "name": "python",
   "nbconvert_exporter": "python",
   "pygments_lexer": "ipython3",
   "version": "3.7.12"
  }
 },
 "nbformat": 4,
 "nbformat_minor": 5
}
